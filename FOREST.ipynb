{
 "cells": [
  {
   "cell_type": "code",
   "execution_count": 1,
   "metadata": {},
   "outputs": [],
   "source": [
    "# importing pandas for reading datasets\n",
    "import pandas as pd\n",
    "\n",
    "#for dividing whole training dataset into train and test\n",
    "from sklearn.model_selection import train_test_split\n",
    "\n",
    "#for accuracy checking\n",
    "from sklearn.metrics import accuracy_score"
   ]
  },
  {
   "cell_type": "code",
   "execution_count": 2,
   "metadata": {},
   "outputs": [
    {
     "name": "stdout",
     "output_type": "stream",
     "text": [
      "   Id  Elevation  Aspect  Slope  Horizontal_Distance_To_Hydrology  \\\n",
      "0   1       2596      51      3                               258   \n",
      "1   2       2590      56      2                               212   \n",
      "2   3       2804     139      9                               268   \n",
      "3   4       2785     155     18                               242   \n",
      "4   5       2595      45      2                               153   \n",
      "\n",
      "   Vertical_Distance_To_Hydrology  Horizontal_Distance_To_Roadways  \\\n",
      "0                               0                              510   \n",
      "1                              -6                              390   \n",
      "2                              65                             3180   \n",
      "3                             118                             3090   \n",
      "4                              -1                              391   \n",
      "\n",
      "   Hillshade_9am  Hillshade_Noon  Hillshade_3pm     ...      Soil_Type32  \\\n",
      "0            221             232            148     ...                0   \n",
      "1            220             235            151     ...                0   \n",
      "2            234             238            135     ...                0   \n",
      "3            238             238            122     ...                0   \n",
      "4            220             234            150     ...                0   \n",
      "\n",
      "   Soil_Type33  Soil_Type34  Soil_Type35  Soil_Type36  Soil_Type37  \\\n",
      "0            0            0            0            0            0   \n",
      "1            0            0            0            0            0   \n",
      "2            0            0            0            0            0   \n",
      "3            0            0            0            0            0   \n",
      "4            0            0            0            0            0   \n",
      "\n",
      "   Soil_Type38  Soil_Type39  Soil_Type40  Cover_Type  \n",
      "0            0            0            0           5  \n",
      "1            0            0            0           5  \n",
      "2            0            0            0           2  \n",
      "3            0            0            0           2  \n",
      "4            0            0            0           5  \n",
      "\n",
      "[5 rows x 56 columns]\n",
      "      Id  Elevation  Aspect  Slope  Horizontal_Distance_To_Hydrology  \\\n",
      "0  15121       2680     354     14                                 0   \n",
      "1  15122       2683       0     13                                 0   \n",
      "2  15123       2713      16     15                                 0   \n",
      "3  15124       2709      24     17                                 0   \n",
      "4  15125       2706      29     19                                 0   \n",
      "\n",
      "   Vertical_Distance_To_Hydrology  Horizontal_Distance_To_Roadways  \\\n",
      "0                               0                             2684   \n",
      "1                               0                             2654   \n",
      "2                               0                             2980   \n",
      "3                               0                             2950   \n",
      "4                               0                             2920   \n",
      "\n",
      "   Hillshade_9am  Hillshade_Noon  Hillshade_3pm     ...       Soil_Type31  \\\n",
      "0            196             214            156     ...                 0   \n",
      "1            201             216            152     ...                 0   \n",
      "2            206             208            137     ...                 0   \n",
      "3            208             201            125     ...                 0   \n",
      "4            210             195            115     ...                 0   \n",
      "\n",
      "   Soil_Type32  Soil_Type33  Soil_Type34  Soil_Type35  Soil_Type36  \\\n",
      "0            0            0            0            0            0   \n",
      "1            0            0            0            0            0   \n",
      "2            0            0            0            0            0   \n",
      "3            0            0            0            0            0   \n",
      "4            0            0            0            0            0   \n",
      "\n",
      "   Soil_Type37  Soil_Type38  Soil_Type39  Soil_Type40  \n",
      "0            0            0            0            0  \n",
      "1            0            0            0            0  \n",
      "2            0            0            0            0  \n",
      "3            0            0            0            0  \n",
      "4            0            0            0            0  \n",
      "\n",
      "[5 rows x 55 columns]\n"
     ]
    }
   ],
   "source": [
    "# Reading the train and test dataset\n",
    "train_data = pd.read_csv(\"forest-cover-type-prediction/train.csv\")\n",
    "test_data = pd.read_csv(\"forest-cover-type-prediction/test.csv\")\n",
    "submission = pd.read_csv(\"forest-cover-type-prediction/sampleSubmission.csv\")\n",
    "\n",
    "print (train_data.head())\n",
    "print (test_data.head())\n",
    "\n",
    "\n"
   ]
  },
  {
   "cell_type": "code",
   "execution_count": 3,
   "metadata": {},
   "outputs": [],
   "source": [
    "# if standard deviation of any column is less than 0.1 that column is removed from both train and test dataset\n",
    "for i in train_data.columns:\n",
    "    if(train_data[i].std() < 0.1):\n",
    "        train_data.drop([i],axis=1,inplace=True)  \n",
    "        test_data.drop([i],axis=1,inplace=True)\n",
    "      "
   ]
  },
  {
   "cell_type": "code",
   "execution_count": 4,
   "metadata": {},
   "outputs": [],
   "source": [
    "# independent and target variable is seperated\n",
    "train_x = train_data.drop(columns=['Cover_Type'],axis=1)\n",
    "train_y = train_data['Cover_Type']\n",
    "\n",
    "\n",
    "#if we are predicting for unseed testing data\n",
    "#test_x = test_data\n",
    "#test_y = test_data['Cover_Type']\n",
    "\n",
    "#if we are predicting on the test data taken from the training set\n",
    "train_x, test_x, train_y, test_y = train_test_split(train_data,train_y , test_size=0.3, random_state=100)"
   ]
  },
  {
   "cell_type": "code",
   "execution_count": 5,
   "metadata": {},
   "outputs": [],
   "source": [
    "\n",
    "#################  LOGISTIC REGRESSION ##############\n",
    "from sklearn.linear_model import LogisticRegression\n",
    "\n",
    "LR_model = LogisticRegression(random_state=45)\n",
    "\n",
    "##################### RANDOM FOREST #################\n",
    "from sklearn.ensemble import RandomForestClassifier\n",
    "\n",
    "RF_model = RandomForestClassifier(n_estimators=100, random_state=45)\n",
    "\n",
    "##################### BAGGING #################\n",
    "from sklearn.ensemble import BaggingClassifier\n",
    "from sklearn.tree import DecisionTreeClassifier\n",
    "\n",
    "base_estimator = DecisionTreeClassifier(random_state=45,max_depth=20)\n",
    "BAG_model = BaggingClassifier(base_estimator=base_estimator, n_estimators=100, random_state=45)\n",
    "\n",
    "################   XG BOOST #####################\n",
    "from xgboost import XGBClassifier\n",
    "\n",
    "XG_model = XGBClassifier(subsample=0.20,n_estimators=100, random_state=45)\n"
   ]
  },
  {
   "cell_type": "code",
   "execution_count": 6,
   "metadata": {},
   "outputs": [
    {
     "name": "stderr",
     "output_type": "stream",
     "text": [
      "/home/msc2/.local/lib/python3.6/site-packages/sklearn/linear_model/logistic.py:433: FutureWarning: Default solver will be changed to 'lbfgs' in 0.22. Specify a solver to silence this warning.\n",
      "  FutureWarning)\n",
      "/home/msc2/.local/lib/python3.6/site-packages/sklearn/linear_model/logistic.py:460: FutureWarning: Default multi_class will be changed to 'auto' in 0.22. Specify the multi_class option to silence this warning.\n",
      "  \"this warning.\", FutureWarning)\n"
     ]
    },
    {
     "name": "stdout",
     "output_type": "stream",
     "text": [
      "\n",
      "Target on train data [3 1 3 ... 3 5 4]\n",
      "\n",
      "Accuracy on train dataset :  0.9429327286470144\n",
      "\n",
      "Prediction on test data [7 5 1 ... 7 5 1]\n",
      "\n",
      "Accuracy on test dataset :  0.9329805996472663\n"
     ]
    }
   ],
   "source": [
    "#LOGISTIC REGRESSION\n",
    "\n",
    "# fit the model with the training data\n",
    "LR_model.fit(train_x,train_y)\n",
    "\n",
    "# predict the target on the train dataset\n",
    "predict_train = LR_model.predict(train_x)\n",
    "print('\\nTarget on train data',predict_train)\n",
    "\n",
    "# Accuray Score on train dataset\n",
    "accuracy_train = accuracy_score(train_y,predict_train)\n",
    "print('\\nAccuracy on train dataset : ', accuracy_train)\n",
    "\n",
    "# predict the target on the test dataset\n",
    "predict_test = LR_model.predict(test_x)\n",
    "print('\\nPrediction on test data',predict_test) \n",
    "\n",
    "# Accuray Score on test dataset\n",
    "accuracy_test = accuracy_score(test_y,predict_test)\n",
    "print('\\nAccuracy on test dataset : ', accuracy_test)"
   ]
  },
  {
   "cell_type": "code",
   "execution_count": 7,
   "metadata": {},
   "outputs": [
    {
     "name": "stdout",
     "output_type": "stream",
     "text": [
      "\n",
      "Target on train data [3 1 3 ... 3 5 4]\n",
      "\n",
      "accuracy_score on train dataset :  1.0\n",
      "\n",
      "Target on test data [7 5 1 ... 7 5 1]\n",
      "\n",
      "Accuracy on test dataset :  0.9986772486772487\n"
     ]
    }
   ],
   "source": [
    "#RANDOM FOREST\n",
    "\n",
    "# fit the model with the training data\n",
    "RF_model.fit(train_x,train_y)\n",
    "\n",
    "# predict the target on the train dataset\n",
    "predict_train = RF_model.predict(train_x)\n",
    "print('\\nTarget on train data',predict_train)\n",
    "\n",
    "# Accuray Score on train dataset\n",
    "accuracy_train = accuracy_score(train_y,predict_train)\n",
    "print('\\naccuracy_score on train dataset : ', accuracy_train)\n",
    "\n",
    "# predict the target on the test dataset\n",
    "predict_test = RF_model.predict(test_x)\n",
    "print('\\nTarget on test data',predict_test) \n",
    "\n",
    "# Accuray Score on test dataset\n",
    "accuracy_test = accuracy_score(test_y,predict_test)\n",
    "print('\\nAccuracy on test dataset : ', accuracy_test)"
   ]
  },
  {
   "cell_type": "code",
   "execution_count": 8,
   "metadata": {},
   "outputs": [
    {
     "name": "stdout",
     "output_type": "stream",
     "text": [
      "\n",
      "Target on train data [3 1 3 ... 3 5 4]\n",
      "\n",
      "accuracy_score on train dataset :  1.0\n",
      "\n",
      "Target on test data [7 5 1 ... 7 5 1]\n",
      "\n",
      "Accuracy on test dataset :  1.0\n"
     ]
    }
   ],
   "source": [
    "#BAGGING\n",
    "\n",
    "# fit the model with the training data\n",
    "BAG_model.fit(train_x,train_y)\n",
    "\n",
    "# predict the target on the train dataset\n",
    "predict_train = BAG_model.predict(train_x)\n",
    "print('\\nTarget on train data',predict_train)\n",
    "\n",
    "# Accuray Score on train dataset\n",
    "accuracy_train = accuracy_score(train_y,predict_train)\n",
    "print('\\naccuracy_score on train dataset : ', accuracy_train)\n",
    "\n",
    "# predict the target on the test dataset\n",
    "predict_test = BAG_model.predict(test_x)\n",
    "print('\\nTarget on test data',predict_test) \n",
    "\n",
    "# Accuray Score on test dataset\n",
    "accuracy_test = accuracy_score(test_y,predict_test)\n",
    "print('\\nAccuracy on test dataset : ', accuracy_test)"
   ]
  },
  {
   "cell_type": "code",
   "execution_count": 9,
   "metadata": {},
   "outputs": [
    {
     "name": "stdout",
     "output_type": "stream",
     "text": [
      "\n",
      "Target on train data [3 1 3 ... 3 5 4]\n",
      "\n",
      "accuracy_score on train dataset :  1.0\n",
      "\n",
      "Target on test data [7 5 1 ... 7 5 1]\n",
      "\n",
      "Accuracy on test dataset :  1.0\n"
     ]
    }
   ],
   "source": [
    "#XGBOOST\n",
    "\n",
    "# fit the model with the training data\n",
    "XG_model.fit(train_x,train_y)\n",
    "\n",
    "# predict the target on the train dataset\n",
    "predict_train = XG_model.predict(train_x)\n",
    "print('\\nTarget on train data',predict_train) \n",
    "\n",
    "# Accuray Score on train dataset\n",
    "accuracy_train = accuracy_score(train_y,predict_train)\n",
    "print('\\naccuracy_score on train dataset : ', accuracy_train)\n",
    "\n",
    "# predict the target on the test dataset\n",
    "predict_test = XG_model.predict(test_x)\n",
    "print('\\nTarget on test data',predict_test) \n",
    "\n",
    "# Accuray Score on test dataset\n",
    "accuracy_test = accuracy_score(test_y,predict_test)\n",
    "print('\\nAccuracy on test dataset : ', accuracy_test)"
   ]
  },
  {
   "cell_type": "code",
   "execution_count": 10,
   "metadata": {},
   "outputs": [],
   "source": [
    "#SUBMISSION\n",
    "\n",
    "\n",
    "#submission['Cover_Type'] = predict_test\n",
    "#submission.to_csv(\"Submission.csv\",columns=['Id','Cover_Type'])"
   ]
  }
 ],
 "metadata": {
  "kernelspec": {
   "display_name": "Python 3",
   "language": "python",
   "name": "python3"
  },
  "language_info": {
   "codemirror_mode": {
    "name": "ipython",
    "version": 3
   },
   "file_extension": ".py",
   "mimetype": "text/x-python",
   "name": "python",
   "nbconvert_exporter": "python",
   "pygments_lexer": "ipython3",
   "version": "3.6.7"
  }
 },
 "nbformat": 4,
 "nbformat_minor": 2
}
